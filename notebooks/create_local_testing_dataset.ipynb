{
 "cells": [
  {
   "cell_type": "markdown",
   "id": "85dbec37",
   "metadata": {},
   "source": [
    "# Create Dataset Subset\n",
    "\n",
    "This notebook creates a smaller subset of the merged Gambardella-Kinker dataset for testing purposes. The subset will maintain the same structure as the original dataset but with fewer cells and genes."
   ]
  },
  {
   "cell_type": "markdown",
   "id": "9b0727d7",
   "metadata": {},
   "source": [
    "## 1. Import Required Libraries and Load Data\n",
    "Import the necessary libraries and load the original dataset."
   ]
  },
  {
   "cell_type": "code",
   "execution_count": 1,
   "id": "971f0759",
   "metadata": {},
   "outputs": [
    {
     "name": "stdout",
     "output_type": "stream",
     "text": [
      "Loading original dataset...\n",
      "Original dataset shape: (64943, 18235) (cells × genes)\n"
     ]
    }
   ],
   "source": [
    "import scanpy as sc\n",
    "import numpy as np\n",
    "\n",
    "# Read the original dataset\n",
    "print(\"Loading original dataset...\")\n",
    "adata = sc.read_h5ad('../output/merged_gambardella_kinker_common_genes.h5ad')\n",
    "print(f\"Original dataset shape: {adata.shape} (cells × genes)\")"
   ]
  },
  {
   "cell_type": "markdown",
   "id": "42a055e0",
   "metadata": {},
   "source": [
    "## 2. Create Sample Subset\n",
    "\n",
    "Create a smaller subset by:\n",
    "1. Randomly selecting a portion of cells\n",
    "2. Keeping all the genes\n",
    "3. Maintaining the same structure and metadata"
   ]
  },
  {
   "cell_type": "code",
   "execution_count": 2,
   "id": "8b8e4ab8",
   "metadata": {},
   "outputs": [
    {
     "name": "stdout",
     "output_type": "stream",
     "text": [
      "Subset dataset shape: (324, 18235) (cells × genes)\n",
      "\n",
      "TP53 status distribution in the subset:\n",
      "TP53_status\n",
      "Missense_Mutation    216\n",
      "Nonsense_Mutation     30\n",
      "Frame_Shift_Del       26\n",
      "Frame_Shift_Ins       23\n",
      "Splice_Site           10\n",
      "In_Frame_Del           7\n",
      "Intron                 7\n",
      "Silent                 4\n",
      "In_Frame_Ins           1\n",
      "Name: count, dtype: int64\n"
     ]
    }
   ],
   "source": [
    "# Set random seed for reproducibility\n",
    "np.random.seed(42)\n",
    "\n",
    "# Define the fraction of cells to keep (e.g., 10%)\n",
    "fraction = 0.005\n",
    "\n",
    "# Calculate the number of cells to keep\n",
    "n_cells = int(adata.n_obs * fraction)\n",
    "\n",
    "# Randomly select cell indices\n",
    "cell_indices = np.random.choice(adata.n_obs, size=n_cells, replace=False)\n",
    "\n",
    "# Create the subset\n",
    "adata_subset = adata[cell_indices]\n",
    "\n",
    "print(f\"Subset dataset shape: {adata_subset.shape} (cells × genes)\")\n",
    "\n",
    "# Check the distribution of TP53 status in the subset\n",
    "print(\"\\nTP53 status distribution in the subset:\")\n",
    "print(adata_subset.obs['TP53_status'].value_counts())"
   ]
  },
  {
   "cell_type": "markdown",
   "id": "f5db0c85",
   "metadata": {},
   "source": [
    "## 3. Save Subset Data\n",
    "\n",
    "Save the subset to a new h5ad file."
   ]
  },
  {
   "cell_type": "code",
   "execution_count": 3,
   "id": "dc6e9f47",
   "metadata": {},
   "outputs": [
    {
     "name": "stdout",
     "output_type": "stream",
     "text": [
      "\n",
      "Subset saved to: ../output/local_testing_merged_gambardella_kinker_common_genes.h5ad\n",
      "\n",
      "File sizes:\n",
      "Original: 2370.21 MB\n",
      "Subset: 12.48 MB\n",
      "Size reduction: 99.5%\n"
     ]
    }
   ],
   "source": [
    "# Save the subset to a new file\n",
    "output_file = '../output/local_testing_merged_gambardella_kinker_common_genes.h5ad'\n",
    "adata_subset.write(output_file)\n",
    "print(f\"\\nSubset saved to: {output_file}\")\n",
    "\n",
    "# Verify the file size difference\n",
    "import os\n",
    "\n",
    "original_size = os.path.getsize('../output/merged_gambardella_kinker_common_genes.h5ad') / (1024 * 1024)  # MB\n",
    "subset_size = os.path.getsize(output_file) / (1024 * 1024)  # MB\n",
    "\n",
    "print(f\"\\nFile sizes:\")\n",
    "print(f\"Original: {original_size:.2f} MB\")\n",
    "print(f\"Subset: {subset_size:.2f} MB\")\n",
    "print(f\"Size reduction: {((original_size - subset_size) / original_size * 100):.1f}%\")"
   ]
  },
  {
   "cell_type": "code",
   "execution_count": 4,
   "id": "a177bf85",
   "metadata": {},
   "outputs": [
    {
     "name": "stdout",
     "output_type": "stream",
     "text": [
      "--- adata_subset ---\n",
      "Shape: (324, 18235) (cells × genes)\n",
      "\n",
      "obs columns:\n",
      "['Cell_line', 'TP53_status', 'dataset']\n",
      "\n",
      "var columns:\n",
      "[]\n",
      "\n",
      "X (first 5 rows, first 5 columns):\n",
      "<Compressed Sparse Row sparse matrix of dtype 'float64'\n",
      "\twith 7 stored elements and shape (5, 5)>\n",
      "  Coords\tValues\n",
      "  (0, 1)\t1.0\n",
      "  (1, 1)\t5.0\n",
      "  (2, 1)\t3.0\n",
      "  (2, 3)\t1.0\n",
      "  (3, 3)\t1.0\n",
      "  (4, 1)\t2.0\n",
      "  (4, 3)\t2.0\n",
      "\n",
      "\n"
     ]
    }
   ],
   "source": [
    "# Inspect AnnData objects: obs columns, var, and X header\n",
    "\n",
    "def inspect_anndata(adata_obj, name=\"AnnData\"):\n",
    "    print(f\"--- {name} ---\")\n",
    "    print(f\"Shape: {adata_obj.shape} (cells × genes)\\n\")\n",
    "    print(\"obs columns:\")\n",
    "    print(adata_obj.obs.columns.tolist())\n",
    "    print(\"\\nvar columns:\")\n",
    "    print(adata_obj.var.columns.tolist())\n",
    "    print(\"\\nX (first 5 rows, first 5 columns):\")\n",
    "    print(adata_obj.X[:5, :5])\n",
    "    print(\"\\n\")\n",
    "\n",
    "inspect_anndata(adata_subset, name=\"adata_subset\")"
   ]
  }
 ],
 "metadata": {
  "kernelspec": {
   "display_name": "base",
   "language": "python",
   "name": "python3"
  },
  "language_info": {
   "codemirror_mode": {
    "name": "ipython",
    "version": 3
   },
   "file_extension": ".py",
   "mimetype": "text/x-python",
   "name": "python",
   "nbconvert_exporter": "python",
   "pygments_lexer": "ipython3",
   "version": "3.11.13"
  }
 },
 "nbformat": 4,
 "nbformat_minor": 5
}
