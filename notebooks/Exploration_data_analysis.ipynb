{
 "cells": [
  {
   "cell_type": "markdown",
   "id": "8ee95207",
   "metadata": {},
   "source": [
    "# EXPLORATORY DATA ANALYSIS"
   ]
  },
  {
   "cell_type": "markdown",
   "id": "98c66510",
   "metadata": {},
   "source": [
    "# Exploratory Data Analysis: TP53 Expression Matrices (Gambardella & Kinker)\n",
    "\n",
    "This notebook performs EDA and prepares the data for multiclass classification of TP53 mutation status.\n",
    "\n",
    "**Files:**\n",
    "- `output/expression_matrix_with_tp53_status_gambardella.csv`\n",
    "- `output/expression_matrix_with_tp53_status_kinker.csv`"
   ]
  },
  {
   "cell_type": "code",
   "execution_count": 26,
   "id": "1b6536ce",
   "metadata": {},
   "outputs": [],
   "source": [
    "import pandas as pd\n",
    "import numpy as np\n",
    "import matplotlib.pyplot as plt\n",
    "import seaborn as sns\n",
    "from collections import Counter\n",
    "import os\n",
    "import mygene"
   ]
  },
  {
   "cell_type": "markdown",
   "id": "42c5cc82",
   "metadata": {},
   "source": [
    "## Load the Data Header and Gene Manipulation"
   ]
  },
  {
   "cell_type": "code",
   "execution_count": null,
   "id": "fa2c2199",
   "metadata": {},
   "outputs": [
    {
     "name": "stdout",
     "output_type": "stream",
     "text": [
      "Gambardella columns: 47098\n",
      "Kinker columns: 999\n",
      "Gambardella first 5 columns: ['ENSG00000000003', 'ENSG00000000419', 'ENSG00000000457', 'ENSG00000000460', 'ENSG00000001036']\n",
      "Kinker first 5 columns: ['A1BG', 'A1BG-AS1', 'A1CF', 'A2M', 'A2M-AS1']\n",
      "Gambardella last 5 columns: ['ENSG00000283420', 'ENSG00000284003', 'ENSG00000284685', 'Cell_line', 'TP53_status']\n",
      "Kinker last 5 columns: ['AC067968.3', 'AC067969.1', 'AC067969.2', 'AC068057.1', 'Cell_line']\n"
     ]
    }
   ],
   "source": [
    "# Load only the headers of the Gambardella and Kinker expression matrices to inspect their structure\n",
    "gambardella_path = '../output/expression_matrix_with_tp53_status_gambardella.csv'\n",
    "kinker_path = '../output/expression_matrix_with_tp53_status_kinker.csv'\n",
    "\n",
    "\n",
    "# Read only the headers\n",
    "gambardella_header = pd.read_csv(gambardella_path, index_col=0, nrows=0)\n",
    "kinker_header = pd.read_csv(kinker_path, index_col=0, nrows=0)\n",
    "\n",
    "print(f'Gambardella columns: {len(gambardella_header.columns)}')\n",
    "print(f'Kinker columns: {len(kinker_header.columns)}')\n",
    "\n",
    "# Show first 5 columns for each\n",
    "print('Gambardella first 5 columns:', list(gambardella_header.columns[:5]))\n",
    "print('Kinker first 5 columns:', list(kinker_header.columns[:5]))\n",
    "\n",
    "# Show last 5 columns for each\n",
    "print('Gambardella last 5 columns:', list(gambardella_header.columns[-5:]))\n",
    "print('Kinker last 5 columns:', list(kinker_header.columns[-5:]))"
   ]
  },
  {
   "cell_type": "code",
   "execution_count": 28,
   "id": "1ee84510",
   "metadata": {},
   "outputs": [
    {
     "name": "stderr",
     "output_type": "stream",
     "text": [
      "Input sequence provided is already in string format. No operation performed\n",
      "Input sequence provided is already in string format. No operation performed\n",
      "22 input query terms found dup hits:\t[('ENSG00000215156', 2), ('ENSG00000227110', 2), ('ENSG00000228566', 2), ('ENSG00000280018', 2), ('E\n",
      "930 input query terms found no hit:\t['ENSG00000112096', 'ENSG00000130723', 'ENSG00000168078', 'ENSG00000189144', 'ENSG00000205485', 'ENS\n"
     ]
    }
   ],
   "source": [
    "#Map Ensembl gene IDs in Gambardella columns to gene symbols using mygene, and rename columns accordingly\n",
    "mg = mygene.MyGeneInfo()\n",
    "ensembl_ids = [col for col in gambardella_header.columns if col.startswith('ENSG')]\n",
    "# Query mygene for gene symbols\n",
    "query = mg.querymany(ensembl_ids, scopes='ensembl.gene', fields='symbol', species='human')\n",
    "# Build mapping dictionary\n",
    "id_to_symbol = {item['query']: item.get('symbol', None) for item in query if 'symbol' in item}\n",
    "# Rename columns in Gambardella dataframe\n",
    "gambardella_header_renamed = gambardella_header.rename(columns=id_to_symbol)"
   ]
  },
  {
   "cell_type": "markdown",
   "id": "18335425",
   "metadata": {},
   "source": [
    "## Target Gene Inspection"
   ]
  },
  {
   "cell_type": "code",
   "execution_count": null,
   "id": "39e7f543",
   "metadata": {},
   "outputs": [
    {
     "name": "stdout",
     "output_type": "stream",
     "text": [
      "Number of TP53 target genes in Kinker: 2\n",
      "Number of TP53 target genes in Gambardella: 337\n",
      "Example in Kinker: ['ABCA12', 'ABCB1']\n",
      "Example in Gambardella: ['CYFIP2', 'ACAD11', 'TGM2', 'CAV1', 'TBXAS1', 'CDC25C', 'BID', 'STAG1', 'GBP1', 'S100A2']\n"
     ]
    }
   ],
   "source": [
    "# Load TP53 target genes and find their intersection with gene columns in Kinker and Gambardella datasets\n",
    "\n",
    "# Load TP53 target genes from Excel file\n",
    "target_genes_df = pd.read_excel('../data/TP53target/41388_2017_BFonc2016502_MOESM5_ESM_tab1.xlsx')\n",
    "\n",
    "# Use the \"Gene Symbol\" column for target genes\n",
    "target_genes = set(target_genes_df[\"Gene Symbol\"].astype(str).str.upper())\n",
    "\n",
    "# Get gene columns from Kinker and Gambardella (excluding metadata columns)\n",
    "exclude_cols = ['Cell_line', 'TP53_status']\n",
    "kinker_genes = set([col.upper() for col in kinker_header.columns if col not in exclude_cols])\n",
    "gambardella_genes = set([col.upper() for col in gambardella_header_renamed.columns if col not in exclude_cols])\n",
    "\n",
    "# Find intersection with target genes\n",
    "kinker_targets = target_genes & kinker_genes\n",
    "gambardella_targets = target_genes & gambardella_genes\n",
    "\n",
    "print(f\"Number of TP53 target genes in Kinker: {len(kinker_targets)}\")\n",
    "print(f\"Number of TP53 target genes in Gambardella: {len(gambardella_targets)}\")\n",
    "print(f\"Example in Kinker: {list(kinker_targets)[:10]}\")\n",
    "print(f\"Example in Gambardella: {list(gambardella_targets)[:10]}\")"
   ]
  },
  {
   "cell_type": "code",
   "execution_count": 33,
   "id": "a21a206b",
   "metadata": {},
   "outputs": [
    {
     "data": {
      "text/plain": [
       "0      ABCA12\n",
       "1       ABCB1\n",
       "2         NaN\n",
       "3      ACAD11\n",
       "4       ACTA2\n",
       "        ...  \n",
       "395     YPEL3\n",
       "396     YWHAG\n",
       "397     ZFP36\n",
       "398     ZMAT3\n",
       "399     ZNF79\n",
       "Name: Gene Symbol, Length: 400, dtype: object"
      ]
     },
     "execution_count": 33,
     "metadata": {},
     "output_type": "execute_result"
    }
   ],
   "source": [
    "target_genes_df = pd.read_excel('../data/TP53target/41388_2017_BFonc2016502_MOESM5_ESM_tab1.xlsx')\n",
    "target_genes_df[\"Gene Symbol\"]\n",
    "#tab1_ensembl_ids = [gene for gene in tab1[\"Ensembl ID\"] if gene in df.columns]\n"
   ]
  },
  {
   "cell_type": "markdown",
   "id": "3b126af1",
   "metadata": {},
   "source": [
    "## 2. Compare Columns (Genes/Features)\n",
    "\n",
    "Let's see the overlap and differences between the two datasets' columns."
   ]
  },
  {
   "cell_type": "code",
   "execution_count": 8,
   "id": "91f05113",
   "metadata": {},
   "outputs": [
    {
     "name": "stdout",
     "output_type": "stream",
     "text": [
      "Possible TP53 status columns: ['TP53_status']\n",
      "Shared genes: 1\n",
      "Unique to Gambardella: 47097\n",
      "Unique to Kinker: 999\n"
     ]
    }
   ],
   "source": [
    "gambardella_cols = set(gambardella_header.columns)\n",
    "kinker_cols = set(kinker_header.columns)\n",
    "\n",
    "# Exclude TP53 status column for gene comparison\n",
    "tp53_col_candidates = [col for col in gambardella_cols.union(kinker_cols) if 'tp53' in col.lower() and 'status' in col.lower()]\n",
    "print('Possible TP53 status columns:', tp53_col_candidates)\n",
    "\n",
    "gene_cols_gambardella = gambardella_cols - set(tp53_col_candidates)\n",
    "gene_cols_kinker = kinker_cols - set(tp53_col_candidates)\n",
    "\n",
    "shared_genes = gene_cols_gambardella & gene_cols_kinker\n",
    "unique_gambardella = gene_cols_gambardella - gene_cols_kinker\n",
    "unique_kinker = gene_cols_kinker - gene_cols_gambardella\n",
    "\n",
    "print(f'Shared genes: {len(shared_genes)}')\n",
    "print(f'Unique to Gambardella: {len(unique_gambardella)}')\n",
    "print(f'Unique to Kinker: {len(unique_kinker)}')"
   ]
  },
  {
   "cell_type": "markdown",
   "id": "7c7cec54",
   "metadata": {},
   "source": [
    "## 3. Visualize Gene Overlap"
   ]
  },
  {
   "cell_type": "code",
   "execution_count": 11,
   "id": "d9435bad",
   "metadata": {},
   "outputs": [
    {
     "data": {
      "image/png": "[encoded data removed]",
      "text/plain": [
       "<Figure size 600x400 with 1 Axes>"
      ]
     },
     "metadata": {},
     "output_type": "display_data"
    }
   ],
   "source": [
    "# If not installed: !pip install matplotlib-venn\n",
    "from matplotlib_venn import venn2\n",
    "plt.figure(figsize=(6,4))\n",
    "venn2([gene_cols_gambardella, gene_cols_kinker], set_labels=('Gambardella', 'Kinker'))\n",
    "plt.title('Gene Overlap')\n",
    "plt.show()"
   ]
  },
  {
   "cell_type": "markdown",
   "id": "2a49ef8c",
   "metadata": {},
   "source": [
    "## 4. Sample Data and Check TP53 Status Encoding"
   ]
  },
  {
   "cell_type": "code",
   "execution_count": 13,
   "id": "bee57bae",
   "metadata": {},
   "outputs": [
    {
     "name": "stdout",
     "output_type": "stream",
     "text": [
      "Gambardella TP53 status (TP53_status): TP53_status\n",
      "Missense_Mutation    100\n",
      "Name: count, dtype: int64\n",
      "Kinker TP53 status (TP53_status): TP53_status\n",
      "Missense_Mutation    65\n",
      "Nonsense_Mutation    21\n",
      "Frame_Shift_Ins      11\n",
      "Splice_Region         3\n",
      "Name: count, dtype: int64\n"
     ]
    }
   ],
   "source": [
    "# Read a small sample from each file\n",
    "sample_gambardella = pd.read_csv(gambardella_path, nrows=100)\n",
    "sample_kinker = pd.read_csv(kinker_path, nrows=100)\n",
    "\n",
    "# Check TP53 status column values\n",
    "for col in tp53_col_candidates:\n",
    "    if col in sample_gambardella.columns:\n",
    "        print(f'Gambardella TP53 status ({col}):', sample_gambardella[col].value_counts())\n",
    "    if col in sample_kinker.columns:\n",
    "        print(f'Kinker TP53 status ({col}):', sample_kinker[col].value_counts())"
   ]
  },
  {
   "cell_type": "markdown",
   "id": "76b08d32",
   "metadata": {},
   "source": [
    "## 5. Basic EDA: Class Balance, Missing Data, Value Distributions"
   ]
  },
  {
   "cell_type": "code",
   "execution_count": 14,
   "id": "1906f30b",
   "metadata": {},
   "outputs": [
    {
     "name": "stdout",
     "output_type": "stream",
     "text": [
      "Gambardella TP53 status (TP53_status) class balance:\n",
      "TP53_status\n",
      "Missense_Mutation    1.0\n",
      "Name: proportion, dtype: float64\n",
      "Kinker TP53 status (TP53_status) class balance:\n",
      "TP53_status\n",
      "Missense_Mutation    0.65\n",
      "Nonsense_Mutation    0.21\n",
      "Frame_Shift_Ins      0.11\n",
      "Splice_Region        0.03\n",
      "Name: proportion, dtype: float64\n"
     ]
    }
   ],
   "source": [
    "# Class balance\n",
    "for name, sample in [('Gambardella', sample_gambardella), ('Kinker', sample_kinker)]:\n",
    "    for col in tp53_col_candidates:\n",
    "        if col in sample.columns:\n",
    "            print(f'{name} TP53 status ({col}) class balance:')\n",
    "            print(sample[col].value_counts(normalize=True))"
   ]
  },
  {
   "cell_type": "code",
   "execution_count": 15,
   "id": "6b12297c",
   "metadata": {},
   "outputs": [
    {
     "name": "stdout",
     "output_type": "stream",
     "text": [
      "Gambardella missing values (sample):\n",
      "Unnamed: 0         0\n",
      "ENSG00000268416    0\n",
      "ENSG00000178235    0\n",
      "ENSG00000144031    0\n",
      "ENSG00000200558    0\n",
      "dtype: int64\n",
      "Kinker missing values (sample):\n",
      "Cell_ID       0\n",
      "AC010761.9    0\n",
      "AC010731.3    0\n",
      "AC010731.4    0\n",
      "AC010744.1    0\n",
      "dtype: int64\n"
     ]
    }
   ],
   "source": [
    "print('Gambardella missing values (sample):')\n",
    "print(sample_gambardella.isnull().sum().sort_values(ascending=False).head())\n",
    "print('Kinker missing values (sample):')\n",
    "print(sample_kinker.isnull().sum().sort_values(ascending=False).head())"
   ]
  },
  {
   "cell_type": "code",
   "execution_count": 16,
   "id": "7ff06902",
   "metadata": {},
   "outputs": [
    {
     "data": {
      "image/png": "[encoded data removed]",
      "text/plain": [
       "<Figure size 800x300 with 1 Axes>"
      ]
     },
     "metadata": {},
     "output_type": "display_data"
    }
   ],
   "source": [
    "import random\n",
    "random_genes = random.sample(list(shared_genes), min(5, len(shared_genes)))\n",
    "for gene in random_genes:\n",
    "    if gene in sample_gambardella.columns and gene in sample_kinker.columns:\n",
    "        plt.figure(figsize=(8,3))\n",
    "        sns.histplot(sample_gambardella[gene], color='blue', label='Gambardella', kde=True, stat='density', bins=30, alpha=0.5)\n",
    "        sns.histplot(sample_kinker[gene], color='red', label='Kinker', kde=True, stat='density', bins=30, alpha=0.5)\n",
    "        plt.title(f'Expression Distribution: {gene}')\n",
    "        plt.legend()\n",
    "        plt.show()"
   ]
  },
  {
   "cell_type": "markdown",
   "id": "afa1e2b8",
   "metadata": {},
   "source": [
    "## 6. Prepare for Merging\n",
    "\n",
    "- Use only shared genes.\n",
    "- Add a 'dataset' column to each."
   ]
  },
  {
   "cell_type": "code",
   "execution_count": 17,
   "id": "91df6ae0",
   "metadata": {},
   "outputs": [],
   "source": [
    "# Example: How to merge (on shared genes + TP53 status)\n",
    "# This is a template for later, not run on full data yet due to size\n",
    "def prepare_for_merge(df, dataset_name, shared_genes, tp53_col):\n",
    "    cols = list(shared_genes) + [tp53_col]\n",
    "    df = df[cols].copy()\n",
    "    df['dataset'] = dataset_name\n",
    "    return df\n",
    "\n",
    "# Example usage on sample\n",
    "# merged_sample = pd.concat([\n",
    "#     prepare_for_merge(sample_gambardella, 'gambardella', shared_genes, tp53_col_candidates[0]),\n",
    "#     prepare_for_merge(sample_kinker, 'kinker', shared_genes, tp53_col_candidates[0])\n",
    "# ], ignore_index=True)"
   ]
  },
  {
   "cell_type": "markdown",
   "id": "2e6d82c4",
   "metadata": {},
   "source": [
    "---\n",
    "\n",
    "**Next steps:**\n",
    "- If all looks good, proceed to merge the full datasets on shared genes.\n",
    "- Consider batch effect visualization and correction before modeling."
   ]
  },
  {
   "cell_type": "markdown",
   "id": "a47a357f",
   "metadata": {},
   "source": []
  }
 ],
 "metadata": {
  "kernelspec": {
   "display_name": "base",
   "language": "python",
   "name": "python3"
  },
  "language_info": {
   "codemirror_mode": {
    "name": "ipython",
    "version": 3
   },
   "file_extension": ".py",
   "mimetype": "text/x-python",
   "name": "python",
   "nbconvert_exporter": "python",
   "pygments_lexer": "ipython3",
   "version": "3.11.13"
  }
 },
 "nbformat": 4,
 "nbformat_minor": 5
}
